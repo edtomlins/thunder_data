{
  "cells": [
    {
      "cell_type": "code",
      "execution_count": 1,
      "metadata": {},
      "outputs": [],
      "source": [
        "import pandas as pd"
      ]
    },
    {
      "cell_type": "code",
      "execution_count": 2,
      "metadata": {},
      "outputs": [],
      "source": [
        "#import csv\n",
        "shots = pd.read_csv(\"shots_data.csv\")"
      ]
    },
    {
      "cell_type": "code",
      "execution_count": 17,
      "metadata": {},
      "outputs": [],
      "source": [
        "# Create new column with absolute value of x to simplify\n",
        "absx = shots['x'].abs()\n",
        "shots['absx'] = absx"
      ]
    },
    {
      "cell_type": "code",
      "execution_count": 19,
      "metadata": {},
      "outputs": [],
      "source": [
        "#Split Dataframe in to Teams A & B\n",
        "teamA = shots[shots['team'] == \"Team A\"]\n",
        "teamB = shots[shots['team'] == \"Team B\"]"
      ]
    },
    {
      "cell_type": "code",
      "execution_count": 38,
      "metadata": {},
      "outputs": [],
      "source": [
        "#Split dataframes in to 2 Pointers and 3 Pointers\n",
        "teamA_2Pts = teamA[teamA['absx'] < 22]\n",
        "teamA_3Pts = teamA[(teamA['absx'] > 22)]\n",
        "teamB_2Pts = teamB[teamB['absx'] < 22]\n",
        "teamB_3Pts = teamB[(teamB['absx'] > 22)]"
      ]
    },
    {
      "cell_type": "code",
      "execution_count": 39,
      "metadata": {},
      "outputs": [],
      "source": [
        "#Split 3 Point dataframes between corner threes and non-corner threes\n",
        "teamA_C3s = teamA_3Pts[teamA_3Pts['y'] <= 7.8]\n",
        "teamA_NC3s = teamA_3Pts[teamA_3Pts['y'] > 7.8]\n",
        "teamB_C3s = teamB_3Pts[teamB_3Pts['y'] <= 7.8]\n",
        "teamB_NC3s = teamB_3Pts[teamB_3Pts['y'] > 7.8]"
      ]
    },
    {
      "cell_type": "code",
      "execution_count": 81,
      "metadata": {},
      "outputs": [],
      "source": [
        "#calculate percentages of 2 pointers, corner threes, and non-corner threes\n",
        "TeamA_Percent_2Pt = len(teamA_2Pts)/len(teamA)\n",
        "TeamA_Percent_C3 = len(teamA_C3s)/len(teamA)\n",
        "TeamA_Percent_NC3 = len(teamA_NC3s)/len(teamA)\n",
        "\n",
        "TeamB_Percent_2Pt = len(teamB_2Pts)/len(teamB)\n",
        "TeamB_Percent_C3 = len(teamB_C3s)/len(teamB)\n",
        "TeamB_Percent_NC3 = len(teamB_NC3s)/len(teamB)"
      ]
    },
    {
      "cell_type": "code",
      "execution_count": 83,
      "metadata": {},
      "outputs": [
        {
          "name": "stdout",
          "output_type": "stream",
          "text": [
            "Team A's Percentage of 2 Pointers =  0.9285714285714286\n",
            "Team A's Percentage of Corner Threes =  0.06428571428571428\n",
            "Team A's Percentage of Non-Corner Threes =  0.0035714285714285713\n",
            "\n",
            "\n",
            "Team B's Percentage of 2 Pointers =  0.9241071428571429\n",
            "Team B's Percentage of Corner Threes =  0.049107142857142856\n",
            "Team B's Percentage of Non-corner Threes =  0.022321428571428572\n"
          ]
        }
      ],
      "source": [
        "print(\"Team A's Percentage of 2 Pointers = \", TeamA_Percent_2Pt)\n",
        "print(\"Team A's Percentage of Corner Threes = \", TeamA_Percent_C3)\n",
        "print(\"Team A's Percentage of Non-Corner Threes = \", TeamA_Percent_NC3)\n",
        "print(\"\\n\")\n",
        "print(\"Team B's Percentage of 2 Pointers = \", TeamB_Percent_2Pt)\n",
        "print(\"Team B's Percentage of Corner Threes = \", TeamB_Percent_C3)\n",
        "print(\"Team B's Percentage of Non-corner Threes = \", TeamB_Percent_NC3)"
      ]
    },
    {
      "cell_type": "code",
      "execution_count": 84,
      "metadata": {},
      "outputs": [],
      "source": [
        "#Create dataframe of team 2pointers made\n",
        "efg_teamA_2Pts = teamA_2Pts[teamA_2Pts['fgmade'] == 1]\n",
        "efg_teamB_2Pts = teamB_2Pts[teamB_2Pts['fgmade'] == 1]"
      ]
    },
    {
      "cell_type": "code",
      "execution_count": 85,
      "metadata": {},
      "outputs": [
        {
          "name": "stdout",
          "output_type": "stream",
          "text": [
            "eFG% for Team A's 2 Pointers 0.43846153846153846\n",
            "eFG% for Team B's 2 Pointers 0.41545893719806765\n"
          ]
        }
      ],
      "source": [
        "# No 3pointers in this efg so only do FGM/FGA\n",
        "TeamA_eFG_2Pts = (len(efg_teamA_2Pts) / len(teamA_2Pts))\n",
        "TeamB_eFG_2Pts = (len(efg_teamB_2Pts) / len(teamB_2Pts))\n",
        "print(\"eFG% for Team A's 2 Pointers\", TeamA_eFG_2Pts)\n",
        "print(\"eFG% for Team B's 2 Pointers\", TeamB_eFG_2Pts)"
      ]
    },
    {
      "cell_type": "code",
      "execution_count": 67,
      "metadata": {},
      "outputs": [],
      "source": [
        "#Create dataframe of Corner 3pointers made\n",
        "fgm_teamA_C3s = teamA_C3s[teamA_C3s['fgmade'] == 1]\n",
        "fgm_teamB_C3s = teamB_C3s[teamB_C3s['fgmade'] == 1]"
      ]
    },
    {
      "cell_type": "code",
      "execution_count": 86,
      "metadata": {},
      "outputs": [
        {
          "name": "stdout",
          "output_type": "stream",
          "text": [
            "eFG% for Team A's Corner Threes 0.75\n",
            "eFG% for Team B's Corner Threes 0.5454545454545454\n"
          ]
        }
      ],
      "source": [
        "#These are only 3pointers so formular is FGM + (.5 * FGM) / FGA\n",
        "efg_teamA_C3s = ((len(fgm_teamA_C3s) + (.5 *len(fgm_teamA_C3s))) / len(teamA_C3s))\n",
        "efg_teamB_C3s = ((len(fgm_teamB_C3s) + (.5 *len(fgm_teamB_C3s))) / len(teamB_C3s))\n",
        "print(\"eFG% for Team A's Corner Threes\", efg_teamA_C3s)\n",
        "print(\"eFG% for Team B's Corner Threes\", efg_teamB_C3s)"
      ]
    },
    {
      "cell_type": "code",
      "execution_count": 87,
      "metadata": {},
      "outputs": [],
      "source": [
        "#Create dataframe of Non-Corner 3pointers made\n",
        "fgm_teamA_NC3s = teamA_NC3s[teamA_NC3s['fgmade'] == 1]\n",
        "fgm_teamB_NC3s = teamB_NC3s[teamB_NC3s['fgmade'] == 1]"
      ]
    },
    {
      "cell_type": "code",
      "execution_count": 91,
      "metadata": {},
      "outputs": [
        {
          "name": "stdout",
          "output_type": "stream",
          "text": [
            "eFG% for Team A's Non-Corner Threes 1.5\n",
            "eFG% for Team B's Non-Corner Threes 0.6\n"
          ]
        }
      ],
      "source": [
        "#These are only 3pointers so formular is FGM + (.5 * FGM) / FGA\n",
        "efg_teamA_NC3s = ((len(fgm_teamA_NC3s) + (.5 *len(fgm_teamA_NC3s))) / len(teamA_NC3s))\n",
        "efg_teamB_NC3s = ((len(fgm_teamB_NC3s) + (.5 *len(fgm_teamB_NC3s))) / len(teamB_NC3s))\n",
        "print(\"eFG% for Team A's Non-Corner Threes\", efg_teamA_NC3s)\n",
        "print(\"eFG% for Team B's Non-Corner Threes\", efg_teamB_NC3s)"
      ]
    },
    {
      "cell_type": "code",
      "execution_count": null,
      "metadata": {},
      "outputs": [],
      "source": []
    }
  ],
  "metadata": {
    "colab": {
      "collapsed_sections": [],
      "provenance": []
    },
    "kernelspec": {
      "display_name": "Python 3.9.12 ('base')",
      "language": "python",
      "name": "python3"
    },
    "language_info": {
      "codemirror_mode": {
        "name": "ipython",
        "version": 3
      },
      "file_extension": ".py",
      "mimetype": "text/x-python",
      "name": "python",
      "nbconvert_exporter": "python",
      "pygments_lexer": "ipython3",
      "version": "3.9.12"
    },
    "nteract": {
      "version": "0.28.0"
    },
    "vscode": {
      "interpreter": {
        "hash": "40d3a090f54c6569ab1632332b64b2c03c39dcf918b08424e98f38b5ae0af88f"
      }
    }
  },
  "nbformat": 4,
  "nbformat_minor": 0
}
